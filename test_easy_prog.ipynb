{
 "cells": [
  {
   "cell_type": "code",
   "execution_count": 6,
   "metadata": {},
   "outputs": [
    {
     "name": "stdout",
     "output_type": "stream",
     "text": [
      "number 23 is Odd\n"
     ]
    }
   ],
   "source": [
    "number = int(input(\"enter number to check: \"))\n",
    "\n",
    "def odd_even_check():\n",
    "    if number % 2 == 0:\n",
    "        print(\"number\" + str(number) + \"is Even\")\n",
    "    else:\n",
    "        print(\"number \" + str(number) + \" is Odd\")\n",
    "odd_even_check()"
   ]
  },
  {
   "cell_type": "code",
   "execution_count": 11,
   "metadata": {},
   "outputs": [
    {
     "name": "stdout",
     "output_type": "stream",
     "text": [
      "numbers used:  1 2 3 4 5\n",
      "average sum of numbers is:  3\n"
     ]
    }
   ],
   "source": [
    "user_input = input(\"provide list of numbers for average calculation: \")\n",
    "\n",
    "num_list = [int(num) for num in user_input.split()]\n",
    "num_count = len(num_list)\n",
    "\n",
    "def find_average(count):\n",
    "    total_sum = 0\n",
    "    for i in num_list:\n",
    "        total_sum += i\n",
    "    average = total_sum / count\n",
    "    return int(average)    \n",
    "\n",
    "average = find_average(num_count)\n",
    "print(\"numbers used: \", user_input)\n",
    "print(\"average sum of numbers is: \", average)"
   ]
  },
  {
   "cell_type": "code",
   "execution_count": 7,
   "metadata": {},
   "outputs": [
    {
     "name": "stdout",
     "output_type": "stream",
     "text": [
      "Your input is: q\n",
      "number of occurrence is:  1\n"
     ]
    }
   ],
   "source": [
    "user_input = input(\"Count the occurrences of a specific character in a string: \")\n",
    "occure = input(\"enter character to check for occurrence: \")\n",
    "count = 0\n",
    "\n",
    "def check_occure():\n",
    "    global count # this statement ensures that the function uses the global count variable instead of creating a new local variable with the same name.\n",
    "    for i in user_input:\n",
    "        if occure == i:\n",
    "            count += 1\n",
    "\n",
    "check_occure()\n",
    "\n",
    "if count >= 2:\n",
    "    print(\"Your input is:\", user_input)\n",
    "    print(\"number of occurrences are: \", count)\n",
    "else:\n",
    "    print(\"Your input is:\", user_input)\n",
    "    print(\"number of occurrence is: \", count)"
   ]
  }
 ],
 "metadata": {
  "kernelspec": {
   "display_name": "base",
   "language": "python",
   "name": "python3"
  },
  "language_info": {
   "codemirror_mode": {
    "name": "ipython",
    "version": 3
   },
   "file_extension": ".py",
   "mimetype": "text/x-python",
   "name": "python",
   "nbconvert_exporter": "python",
   "pygments_lexer": "ipython3",
   "version": "3.8.8"
  },
  "orig_nbformat": 4
 },
 "nbformat": 4,
 "nbformat_minor": 2
}
